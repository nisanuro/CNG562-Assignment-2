{
  "nbformat": 4,
  "nbformat_minor": 0,
  "metadata": {
    "colab": {
      "name": "CNG562-Assignment2.ipynb",
      "provenance": [],
      "include_colab_link": true
    },
    "kernelspec": {
      "name": "python3",
      "display_name": "Python 3"
    }
  },
  "cells": [
    {
      "cell_type": "markdown",
      "metadata": {
        "id": "view-in-github",
        "colab_type": "text"
      },
      "source": [
        "<a href=\"https://colab.research.google.com/github/nisanuro/CNG562-Assignment-2/blob/naive/CNG562_Assignment2.ipynb\" target=\"_parent\"><img src=\"https://colab.research.google.com/assets/colab-badge.svg\" alt=\"Open In Colab\"/></a>"
      ]
    },
    {
      "cell_type": "code",
      "metadata": {
        "id": "738YGK5FqWmB",
        "colab_type": "code",
        "colab": {}
      },
      "source": [
        "import pandas as pd\n",
        "import numpy as np\n",
        "import matplotlib.pyplot as plt  \n",
        "from sklearn.model_selection import train_test_split, KFold, StratifiedKFold, cross_val_score\n",
        "from sklearn import metrics, datasets, preprocessing\n",
        "%matplotlib inline\n",
        "from sklearn.naive_bayes import GaussianNB, BernoulliNB, CategoricalNB, ComplementNB, MultinomialNB\n",
        "from sklearn.tree import DecisionTreeClassifier"
      ],
      "execution_count": 0,
      "outputs": []
    },
    {
      "cell_type": "code",
      "metadata": {
        "id": "skeQ9JV9_rlO",
        "colab_type": "code",
        "colab": {}
      },
      "source": [
        "def randomOneHoldout(X_train, Y_train):\n",
        "\n",
        "  x_train, x_test, y_train, y_test = train_test_split(X_train, Y_train, test_size=0.2, random_state=0)\n",
        "\n",
        "  return x_train, x_test, y_train, y_test"
      ],
      "execution_count": 0,
      "outputs": []
    },
    {
      "cell_type": "code",
      "metadata": {
        "id": "mYjpybV6_v7v",
        "colab_type": "code",
        "colab": {}
      },
      "source": [
        "def stratifiedOneHoldout(X_train, Y_train):\n",
        "  \n",
        "  x_train, x_test, y_train, y_test = train_test_split(X_train, Y_train, test_size=0.2, random_state=0, stratify=Y_train)\n",
        "  \n",
        "  return x_train, x_test, y_train, y_test"
      ],
      "execution_count": 0,
      "outputs": []
    },
    {
      "cell_type": "code",
      "metadata": {
        "id": "k95XLXS5OIZy",
        "colab_type": "code",
        "colab": {}
      },
      "source": [
        "def NaiveBayes(X, Y):\n",
        "    X_train, X_test, Y_train, Y_test = train_test_split(X, Y, test_size=0.25, random_state=9)\n",
        "    '''\n",
        "    # Gaussian Naive Bayes\n",
        "    gaussian = GaussianNB()\n",
        "    NaiveBayesValidations(X_train, Y_train, gaussian)\n",
        "\n",
        "    y_pred = gaussian.predict(X_test)\n",
        "    print(\"Accuracy - unseen data: \", metrics.accuracy_score(Y_test, y_pred)*100)\n",
        "    \n",
        "    fourError(X, Y, gaussian)\n",
        "    \n",
        "    \n",
        "    # Multinomial Naive Bayes\n",
        "    multinomial = MultinomialNB(fit_prior=True)\n",
        "    NaiveBayesValidations(X_train, Y_train, multinomial)\n",
        "\n",
        "    y_pred = multinomial.predict(X_test)\n",
        "    print(\"Accuracy - unseen data: \", metrics.accuracy_score(Y_test, y_pred)*100)\n",
        "\n",
        "    fourError(X, Y, multinomial)\n",
        "    \n",
        "    \n",
        "    # Bernoulli Naive Bayes\n",
        "    \n",
        "    bernoulli = BernoulliNB(binarize = 1.5)\n",
        "    bernoulli.fit(X_train, Y_train)\n",
        "    #NaiveBayesValidations(X_train, Y_train, bernoulli)\n",
        "\n",
        "    \n",
        "    y_pred = bernoulli.predict(X_test)\n",
        "    print(\"Accuracy - unseen data: \", metrics.accuracy_score(Y_test, y_pred)*100)\n",
        "\n",
        "    fourError(X, Y, bernoulli)\n",
        "    \n",
        "    #BernoulliBinarize(X_train, Y_train)\n",
        "    \n",
        "   \n",
        "    # Complement Naive Bayes\n",
        "    complement = ComplementNB()\n",
        "    NaiveBayesValidations(X_train, Y_train, complement)\n",
        "\n",
        "    y_pred = complement.predict(X_test)\n",
        "    print(\"Accuracy - unseen data: \", metrics.accuracy_score(Y_test, y_pred)*100)\n",
        "\n",
        "    fourError(X, Y, complement)\n",
        "    \n",
        "    #complementTuning(X_train, Y_train)\n",
        "    '''\n",
        "\n",
        "    # Categorical Naive Bayes\n",
        "    categorical = CategoricalNB()\n",
        "    NaiveBayesValidations(X_train, Y_train, categorical)                \n",
        "\n",
        "    y_pred = categorical.predict(X_test)\n",
        "    print(\"Accuracy - unseen data: \", metrics.accuracy_score(Y_test, y_pred)*100)\n",
        "\n",
        "    fourError(X, Y, categorical)  "
      ],
      "execution_count": 0,
      "outputs": []
    },
    {
      "cell_type": "code",
      "metadata": {
        "id": "N6-F23hd2Ubp",
        "colab_type": "code",
        "colab": {}
      },
      "source": [
        "def complementTuning(X_train, Y_train):\n",
        "    fit_prior = [True, False]\n",
        "    norm = [True, False]\n",
        "\n",
        "    for i in fit_prior:\n",
        "        for j in norm:\n",
        "            model = ComplementNB(fit_prior = i, norm = j)\n",
        "\n",
        "            cv = cross_val_score(model, X_train, Y_train, cv=10, scoring='accuracy')\n",
        "\n",
        "            print(\"fit_prior = \", i, \"   norm = \", j, \"   Accuracy: \", cv.mean()*100)"
      ],
      "execution_count": 0,
      "outputs": []
    },
    {
      "cell_type": "code",
      "metadata": {
        "id": "K5HWcZP7fNjz",
        "colab_type": "code",
        "colab": {}
      },
      "source": [
        "def fourError(X, Y, model):\n",
        "    X_train, X_test, Y_train, Y_test = train_test_split(X, Y, test_size=0.3, random_state=15, stratify=Y)\n",
        "    \n",
        "    Train_x, TrainDev_x, Train_y, TrainDev_y = train_test_split(X_train, Y_train, test_size=0.2, random_state=0, stratify=Y_train)\n",
        "    Dev_x, Test_x, Dev_y, Test_y = train_test_split(X_test, Y_test, test_size=0.5, random_state=15, stratify=Y_test)\n",
        "\n",
        "    model.fit(Train_x, Train_y)\n",
        "\n",
        "    trainDev_pred = model.predict(TrainDev_x)\n",
        "  \n",
        "    print(\"Train-Train Dev,   e1:\", metrics.mean_squared_error(TrainDev_y, trainDev_pred))\n",
        "    print(\"Decision Tree Accuracy: \", 1 - metrics.mean_squared_error(TrainDev_y, trainDev_pred),\"\\n\")\n",
        "\n",
        "    dev_pred = model.predict(Dev_x)\n",
        "\n",
        "    print(\"Train-Dev,   e2\", metrics.mean_squared_error(Dev_y, dev_pred))\n",
        "    print(\"Decision Tree Accuracy: \", 1 - metrics.mean_squared_error(Dev_y, dev_pred),\"\\n\")\n",
        "\n",
        "    test_pred = model.predict(Test_x)\n",
        "\n",
        "    print(\"Train-Test,   e3: \", metrics.mean_squared_error(Test_y, test_pred))\n",
        "    print(\"Decision Tree Accuracy: \", 1 - metrics.mean_squared_error(Test_y, test_pred),\"\\n\")\n",
        "\n",
        "    devTest_pred = model.predict(X_test)\n",
        "\n",
        "    print(\"Train-(Dev+Test),   e4: \", metrics.mean_squared_error(Y_test, devTest_pred))\n",
        "    print(\"Decision Tree Accuracy: \", 1 - metrics.mean_squared_error(Y_test, devTest_pred),\"\\n\")"
      ],
      "execution_count": 0,
      "outputs": []
    },
    {
      "cell_type": "code",
      "metadata": {
        "id": "afUocDVtjArD",
        "colab_type": "code",
        "colab": {}
      },
      "source": [
        "def BernoulliBinarize(X_train, Y_train):\n",
        "    binarize = [0, 0.25, 0.5, 0.75, 1, 1.25, 1.5, 1.75, 2, 2.25, 2.5, 2.75, 3]\n",
        "\n",
        "    for i in binarize:\n",
        "\n",
        "        model = BernoulliNB(binarize = i)\n",
        "        cv = cross_val_score(model, X_train, Y_train, cv=5, scoring='accuracy')\n",
        "        print(\"Binarize = \", i, \"    Accuracy: \", cv.mean()*100)\n",
        "\n",
        "        "
      ],
      "execution_count": 0,
      "outputs": []
    },
    {
      "cell_type": "code",
      "metadata": {
        "id": "qN-F-ylgRTG5",
        "colab_type": "code",
        "colab": {}
      },
      "source": [
        "def NaiveBayesValidations(X_train, Y_train, model):\n",
        "    print(\"\\n\" + str(model).split('N')[0] + \" Naive Bayes Accuracy\\n\")\n",
        "    # 5-Fold\n",
        "    cv = cross_val_score(model, X_train, Y_train, cv=5, scoring='accuracy')\n",
        "\n",
        "    print(\"5-Fold: \", cv.mean()*100)\n",
        "    \n",
        "    # 10-Fold\n",
        "    cv = cross_val_score(model, X_train, Y_train, cv=10, scoring='accuracy')\n",
        "\n",
        "    print(\"10-Fold: \", cv.mean()*100)\n",
        "\n",
        "    # Random One Holdout\n",
        "    x_train, x_test, y_train, y_test = randomOneHoldout(X_train, Y_train)\n",
        "    \n",
        "    model.fit(x_train, y_train)\n",
        "    y_pred = model.predict(x_test)\n",
        "\n",
        "    print(\"Random One Holdout: \", metrics.accuracy_score(y_test, y_pred)*100)\n",
        "\n",
        "    # Stratified One Holdout\n",
        "    x_train, x_test, y_train, y_test = stratifiedOneHoldout(X_train, Y_train)\n",
        "\n",
        "    model.fit(x_train, y_train)\n",
        "    y_pred = model.predict(x_test)\n",
        "\n",
        "    print(\"Stratified One Holdout: \", metrics.accuracy_score(y_test, y_pred)*100)\n",
        "\n"
      ],
      "execution_count": 0,
      "outputs": []
    },
    {
      "cell_type": "code",
      "metadata": {
        "id": "DrILGyKFSiP3",
        "colab_type": "code",
        "colab": {}
      },
      "source": [
        "def DecisionTree(X, Y):\n",
        "    \n",
        "    X_train, X_test, Y_train, Y_test = train_test_split(X, Y, test_size=0.3, random_state=0)\n",
        "    \n",
        "    # 5-Fold\n",
        "    print(\"\\n5-Fold: \")\n",
        "    tuningDepth(X_train, Y_train, 0)\n",
        "\n",
        "    # 10-Fold\n",
        "    print(\"\\n10-Fold: \")\n",
        "    tuningDepth(X_train, Y_train, 1)\n",
        "\n",
        "    # Random One Holdout\n",
        "    print(\"\\nRandom One Holdout: \")   \n",
        "    tuningDepth(X_train, Y_train, 2)\n",
        "  \n",
        "    # Stratified One Holdout\n",
        "    print(\"\\nStratified One Holdout: \")\n",
        "    tuningDepth(X_train, Y_train, 3)\n",
        "    \n",
        "    #\n",
        "    #   Continue with 10-Fold, Depth = 3\n",
        "    #\n",
        "    \n",
        "    print(\"5-Fold, Depth=5\\n\")\n",
        "    tuningSplit(X_train, Y_train)\n",
        "    \n",
        "    #\n",
        "    #   Continue with criterion = 'gini', splitter = 'best', min_samples_split = 2\n",
        "    #                     all of them are default values\n",
        "    print(\"5-Fold, depth = 5, criterion = 'gini', splitter = 'best, min_samples_split = 2\\n\")\n",
        "    tuningClassWeight(X_train, Y_train)\n",
        "\n",
        "    #\n",
        "    #   Continue with class_weight = None,   default\n",
        "    #\n",
        "    \n",
        "    clf = DecisionTreeClassifier(max_depth = 3)\n",
        "    '''\n",
        "    clf.fit(X_train, Y_train)\n",
        "    \n",
        "    y_pred = clf.predict(X_test)\n",
        "    print(\"Accuracy: \", metrics.accuracy_score(Y_test, y_pred)*100)\n",
        "    '''\n",
        "    fourError(X, Y, clf)"
      ],
      "execution_count": 0,
      "outputs": []
    },
    {
      "cell_type": "code",
      "metadata": {
        "id": "soasxcXZCjhG",
        "colab_type": "code",
        "colab": {}
      },
      "source": [
        "def tuningClassWeight(X_train, Y_train):\n",
        "    # No class weight\n",
        "    clf = DecisionTreeClassifier(max_depth = 3, random_state = 0)\n",
        "    clf.fit(X_train, Y_train)\n",
        "\n",
        "    cv = cross_val_score(clf, X_train, Y_train, cv=10, scoring='accuracy')\n",
        "    print(\"Class weight: None           Accuracy: \", cv.mean()*100)\n",
        "\n",
        "    # Balanced class weight\n",
        "    clf = DecisionTreeClassifier(max_depth = 3, random_state = 0, class_weight ='balanced')\n",
        "    clf.fit(X_train, Y_train)\n",
        "\n",
        "    cv = cross_val_score(clf, X_train, Y_train, cv=10, scoring='accuracy')\n",
        "    print(\"Class weight: Balanced       Accuracy: \", cv.mean()*100)"
      ],
      "execution_count": 0,
      "outputs": []
    },
    {
      "cell_type": "code",
      "metadata": {
        "id": "xHMjFVgH4Y7V",
        "colab_type": "code",
        "colab": {}
      },
      "source": [
        "def tuningSplit(X_train, Y_train):\n",
        "    criterion = [\"gini\", \"entropy\"]\n",
        "    splitter = [\"best\", \"random\"]\n",
        "\n",
        "    for i in criterion:\n",
        "        for j in splitter:\n",
        "            clf = DecisionTreeClassifier(criterion = i, splitter = j, max_depth = 3, random_state = 0)\n",
        "            clf.fit(X_train, Y_train)\n",
        "\n",
        "            cv = cross_val_score(clf, X_train, Y_train, cv=10, scoring='accuracy')\n",
        "            print(\"Criterion: \", i, \"   Splitter: \", j, \"   Accuracy: \", cv.mean()*100)\n",
        "\n",
        "    for i in range(2, 10):\n",
        "        clf = DecisionTreeClassifier(max_depth = 3, min_samples_split = i, random_state = 0)\n",
        "        clf.fit(X_train, Y_train)\n",
        "\n",
        "        cv = cross_val_score(clf, X_train, Y_train, cv=10, scoring='accuracy')\n",
        "        print(\"min_samples_split: \", i, \"   Accuracy: \", cv.mean()*100)"
      ],
      "execution_count": 0,
      "outputs": []
    },
    {
      "cell_type": "code",
      "metadata": {
        "id": "F92x5ZHNeunE",
        "colab_type": "code",
        "colab": {}
      },
      "source": [
        "def tuningDepth(X_train, Y_train, val):\n",
        "\n",
        "    max_depth_range = list(range(1, 10))\n",
        "    max_depth_range.append(str(\"None\"))\n",
        "    \n",
        "\n",
        "    for depth in max_depth_range:\n",
        "        if (val == 0):\n",
        "            if(depth == \"None\"):\n",
        "                clf = DecisionTreeClassifier(random_state = 0)\n",
        "                clf.fit(X_train, Y_train)\n",
        "            else:               \n",
        "                clf = DecisionTreeClassifier(max_depth = depth, random_state = 0)\n",
        "                clf.fit(X_train, Y_train)\n",
        "\n",
        "            cv = cross_val_score(clf, X_train, Y_train, cv=5, scoring='accuracy')\n",
        "            accuracy = cv.mean()*100\n",
        "            print(\"Depth: \", depth, \" Accuracy: \", accuracy)\n",
        "            \n",
        "        elif (val == 1):\n",
        "            if(depth == \"None\"):\n",
        "                clf = DecisionTreeClassifier(random_state = 0)\n",
        "                clf.fit(X_train, Y_train)\n",
        "            else:  \n",
        "                clf = DecisionTreeClassifier(max_depth = depth, random_state = 0)\n",
        "                clf.fit(X_train, Y_train)\n",
        "\n",
        "            cv = cross_val_score(clf, X_train, Y_train, cv=10, scoring='accuracy')\n",
        "            accuracy = cv.mean()*100\n",
        "            print(\"Depth: \", depth, \" Accuracy: \",accuracy)\n",
        "            \n",
        "        elif(val == 2):            \n",
        "            x_train, x_test, y_train, y_test = randomOneHoldout(X_train, Y_train)\n",
        "\n",
        "            if(depth == \"None\"):\n",
        "                clf = DecisionTreeClassifier(random_state = 0)\n",
        "                clf.fit(X_train, Y_train)\n",
        "            else:  \n",
        "                clf = DecisionTreeClassifier(max_depth = depth, random_state = 0)\n",
        "                clf.fit(x_train, y_train)\n",
        "\n",
        "            accuracy = clf.score(x_test, y_test)*100\n",
        "            print(\"Depth: \", depth, \" Accuracy: \", accuracy)\n",
        "            \n",
        "        elif(val == 3):\n",
        "            x_train, x_test, y_train, y_test = stratifiedOneHoldout(X_train, Y_train)\n",
        "\n",
        "            if(depth == \"None\"):\n",
        "                clf = DecisionTreeClassifier(random_state = 0)\n",
        "                clf.fit(X_train, Y_train)\n",
        "            else:  \n",
        "                clf = DecisionTreeClassifier(max_depth = depth, random_state = 0)\n",
        "                clf.fit(x_train, y_train)\n",
        "\n",
        "            accuracy = clf.score(x_test, y_test)*100\n",
        "            print(\"Depth: \", depth, \" Accuracy: \", accuracy)\n",
        "            \n",
        "        else:\n",
        "            print(\"Invalid validation tech.\")\n",
        "\n"
      ],
      "execution_count": 0,
      "outputs": []
    },
    {
      "cell_type": "code",
      "metadata": {
        "id": "RGEz0duV_zJJ",
        "colab_type": "code",
        "colab": {}
      },
      "source": [
        "def displayAccuracy(X, Y):\n",
        "    \n",
        "    NaiveBayes(X, Y)\n",
        "    #DecisionTree(X, Y)"
      ],
      "execution_count": 0,
      "outputs": []
    },
    {
      "cell_type": "code",
      "metadata": {
        "id": "xCG-PjOK0hpZ",
        "colab_type": "code",
        "colab": {}
      },
      "source": [
        "def zValues(df):\n",
        "    \n",
        "    cols = list(df.columns)\n",
        "    cols.remove('Index')\n",
        "\n",
        "    for col in cols:\n",
        "        col_zscore = col + '_zscore'\n",
        "        df[col_zscore] = (df[col] - df[col].mean())/df[col].std(ddof=0)\n",
        "\n",
        "    return df"
      ],
      "execution_count": 0,
      "outputs": []
    },
    {
      "cell_type": "code",
      "metadata": {
        "id": "6ch_JU38Fe7Y",
        "colab_type": "code",
        "colab": {}
      },
      "source": [
        "def outliers(df):  \n",
        "    return df.loc[(df._1_zscore > 2.5) | (df._2_zscore > 2.5) | (df._2_zscore > 2.5) | (df._3_zscore > 2.5)]"
      ],
      "execution_count": 0,
      "outputs": []
    },
    {
      "cell_type": "code",
      "metadata": {
        "id": "azKxx12s6s63",
        "colab_type": "code",
        "colab": {}
      },
      "source": [
        "def subDatasets(df):\n",
        "    target0 = []\n",
        "    target1 = []\n",
        "    target2 = []\n",
        "    for row in df.itertuples():\n",
        "        if row.target == 0:\n",
        "            target0.append(row)\n",
        "            target0_df = pd.DataFrame(target0)\n",
        "        elif row.target == 1:\n",
        "            target1.append(row)\n",
        "            target1_df = pd.DataFrame(target1)\n",
        "        else:\n",
        "            target2.append(row)    \n",
        "            target2_df = pd.DataFrame(target2)  \n",
        "\n",
        "    dfs = [target0_df, target1_df, target2_df]  \n",
        "\n",
        "    for df in dfs:\n",
        "        df.drop(columns=['target'])\n",
        "    \n",
        "    return target0_df, target1_df, target2_df"
      ],
      "execution_count": 0,
      "outputs": []
    },
    {
      "cell_type": "code",
      "metadata": {
        "id": "er-z4_9i_223",
        "colab_type": "code",
        "colab": {}
      },
      "source": [
        "if __name__ == '__main__':\n",
        "\n",
        "  iris = datasets.load_iris()\n",
        "  \n",
        "  X = iris.data\n",
        "  Y = iris.target\n",
        "  \n",
        "  # L1 normalization\n",
        "  l1_norm = preprocessing.normalize(X, norm=\"l1\")\n",
        "  # Mean removal\n",
        "  mean_removal = preprocessing.scale(X)\n",
        "\n",
        "  #Displaying result according to each type of methods and regression model\n",
        "  #print(\"\\nRaw: \")\n",
        "  #displayAccuracy(X,Y)\n",
        "  '''\n",
        "  print(\"\\nL1 Normalization: \")\n",
        "  displayAccuracy(l1_norm,Y)\n",
        "  \n",
        "  print(\"\\nMean Removal: \")\n",
        "  displayAccuracy(mean_removal,Y)'''\n",
        "\n",
        "  df = pd.DataFrame(iris.data, columns=iris.feature_names)\n",
        "  df['target'] = iris.target\n",
        "  pd.set_option('display.max_rows', df.shape[0]+1)\n",
        " \n",
        "  t0, t1, t2 = subDatasets(df)\n",
        "  \n",
        "  z0 = zValues(t0)\n",
        "  z1 = zValues(t1)\n",
        "  z2 = zValues(t2)\n",
        "  \n",
        "  out0 = outliers(z0)\n",
        "  out1 = outliers(z1)\n",
        "  out2 = outliers(z2)"
      ],
      "execution_count": 0,
      "outputs": []
    },
    {
      "cell_type": "code",
      "metadata": {
        "id": "XgY0d9DaKApK",
        "colab_type": "code",
        "colab": {
          "base_uri": "https://localhost:8080/",
          "height": 136
        },
        "outputId": "d4eee520-df01-4198-83be-cc5a75f04168"
      },
      "source": [
        "out0"
      ],
      "execution_count": 1746,
      "outputs": [
        {
          "output_type": "execute_result",
          "data": {
            "text/html": [
              "<div>\n",
              "<style scoped>\n",
              "    .dataframe tbody tr th:only-of-type {\n",
              "        vertical-align: middle;\n",
              "    }\n",
              "\n",
              "    .dataframe tbody tr th {\n",
              "        vertical-align: top;\n",
              "    }\n",
              "\n",
              "    .dataframe thead th {\n",
              "        text-align: right;\n",
              "    }\n",
              "</style>\n",
              "<table border=\"1\" class=\"dataframe\">\n",
              "  <thead>\n",
              "    <tr style=\"text-align: right;\">\n",
              "      <th></th>\n",
              "      <th>Index</th>\n",
              "      <th>_1</th>\n",
              "      <th>_2</th>\n",
              "      <th>_3</th>\n",
              "      <th>_4</th>\n",
              "      <th>target</th>\n",
              "      <th>_1_zscore</th>\n",
              "      <th>_2_zscore</th>\n",
              "      <th>_3_zscore</th>\n",
              "      <th>_4_zscore</th>\n",
              "      <th>target_zscore</th>\n",
              "    </tr>\n",
              "  </thead>\n",
              "  <tbody>\n",
              "    <tr>\n",
              "      <th>15</th>\n",
              "      <td>15</td>\n",
              "      <td>5.7</td>\n",
              "      <td>4.4</td>\n",
              "      <td>1.5</td>\n",
              "      <td>0.4</td>\n",
              "      <td>0</td>\n",
              "      <td>1.988841</td>\n",
              "      <td>2.590242</td>\n",
              "      <td>0.221035</td>\n",
              "      <td>1.476136</td>\n",
              "      <td>NaN</td>\n",
              "    </tr>\n",
              "    <tr>\n",
              "      <th>24</th>\n",
              "      <td>24</td>\n",
              "      <td>4.8</td>\n",
              "      <td>3.4</td>\n",
              "      <td>1.9</td>\n",
              "      <td>0.2</td>\n",
              "      <td>0</td>\n",
              "      <td>-0.590348</td>\n",
              "      <td>-0.074616</td>\n",
              "      <td>2.547718</td>\n",
              "      <td>-0.440924</td>\n",
              "      <td>NaN</td>\n",
              "    </tr>\n",
              "    <tr>\n",
              "      <th>44</th>\n",
              "      <td>44</td>\n",
              "      <td>5.1</td>\n",
              "      <td>3.8</td>\n",
              "      <td>1.9</td>\n",
              "      <td>0.4</td>\n",
              "      <td>0</td>\n",
              "      <td>0.269382</td>\n",
              "      <td>0.991327</td>\n",
              "      <td>2.547718</td>\n",
              "      <td>1.476136</td>\n",
              "      <td>NaN</td>\n",
              "    </tr>\n",
              "  </tbody>\n",
              "</table>\n",
              "</div>"
            ],
            "text/plain": [
              "    Index   _1   _2   _3  ...  _2_zscore  _3_zscore  _4_zscore  target_zscore\n",
              "15     15  5.7  4.4  1.5  ...   2.590242   0.221035   1.476136            NaN\n",
              "24     24  4.8  3.4  1.9  ...  -0.074616   2.547718  -0.440924            NaN\n",
              "44     44  5.1  3.8  1.9  ...   0.991327   2.547718   1.476136            NaN\n",
              "\n",
              "[3 rows x 11 columns]"
            ]
          },
          "metadata": {
            "tags": []
          },
          "execution_count": 1746
        }
      ]
    },
    {
      "cell_type": "code",
      "metadata": {
        "id": "QQKU8YsPG4y5",
        "colab_type": "code",
        "colab": {
          "base_uri": "https://localhost:8080/",
          "height": 47
        },
        "outputId": "89a2a234-b7b2-48d0-de7a-b2d373c02e29"
      },
      "source": [
        "out1"
      ],
      "execution_count": 1747,
      "outputs": [
        {
          "output_type": "execute_result",
          "data": {
            "text/html": [
              "<div>\n",
              "<style scoped>\n",
              "    .dataframe tbody tr th:only-of-type {\n",
              "        vertical-align: middle;\n",
              "    }\n",
              "\n",
              "    .dataframe tbody tr th {\n",
              "        vertical-align: top;\n",
              "    }\n",
              "\n",
              "    .dataframe thead th {\n",
              "        text-align: right;\n",
              "    }\n",
              "</style>\n",
              "<table border=\"1\" class=\"dataframe\">\n",
              "  <thead>\n",
              "    <tr style=\"text-align: right;\">\n",
              "      <th></th>\n",
              "      <th>Index</th>\n",
              "      <th>_1</th>\n",
              "      <th>_2</th>\n",
              "      <th>_3</th>\n",
              "      <th>_4</th>\n",
              "      <th>target</th>\n",
              "      <th>_1_zscore</th>\n",
              "      <th>_2_zscore</th>\n",
              "      <th>_3_zscore</th>\n",
              "      <th>_4_zscore</th>\n",
              "      <th>target_zscore</th>\n",
              "    </tr>\n",
              "  </thead>\n",
              "  <tbody>\n",
              "  </tbody>\n",
              "</table>\n",
              "</div>"
            ],
            "text/plain": [
              "Empty DataFrame\n",
              "Columns: [Index, _1, _2, _3, _4, target, _1_zscore, _2_zscore, _3_zscore, _4_zscore, target_zscore]\n",
              "Index: []"
            ]
          },
          "metadata": {
            "tags": []
          },
          "execution_count": 1747
        }
      ]
    },
    {
      "cell_type": "code",
      "metadata": {
        "id": "uj7u3ZNzG6iS",
        "colab_type": "code",
        "colab": {
          "base_uri": "https://localhost:8080/",
          "height": 106
        },
        "outputId": "d6e79e0c-a859-47d7-f22f-4638974c849b"
      },
      "source": [
        "out2"
      ],
      "execution_count": 1748,
      "outputs": [
        {
          "output_type": "execute_result",
          "data": {
            "text/html": [
              "<div>\n",
              "<style scoped>\n",
              "    .dataframe tbody tr th:only-of-type {\n",
              "        vertical-align: middle;\n",
              "    }\n",
              "\n",
              "    .dataframe tbody tr th {\n",
              "        vertical-align: top;\n",
              "    }\n",
              "\n",
              "    .dataframe thead th {\n",
              "        text-align: right;\n",
              "    }\n",
              "</style>\n",
              "<table border=\"1\" class=\"dataframe\">\n",
              "  <thead>\n",
              "    <tr style=\"text-align: right;\">\n",
              "      <th></th>\n",
              "      <th>Index</th>\n",
              "      <th>_1</th>\n",
              "      <th>_2</th>\n",
              "      <th>_3</th>\n",
              "      <th>_4</th>\n",
              "      <th>target</th>\n",
              "      <th>_1_zscore</th>\n",
              "      <th>_2_zscore</th>\n",
              "      <th>_3_zscore</th>\n",
              "      <th>_4_zscore</th>\n",
              "      <th>target_zscore</th>\n",
              "    </tr>\n",
              "  </thead>\n",
              "  <tbody>\n",
              "    <tr>\n",
              "      <th>17</th>\n",
              "      <td>117</td>\n",
              "      <td>7.7</td>\n",
              "      <td>3.8</td>\n",
              "      <td>6.7</td>\n",
              "      <td>2.2</td>\n",
              "      <td>2</td>\n",
              "      <td>1.766513</td>\n",
              "      <td>2.58727</td>\n",
              "      <td>2.101225</td>\n",
              "      <td>0.639965</td>\n",
              "      <td>NaN</td>\n",
              "    </tr>\n",
              "    <tr>\n",
              "      <th>31</th>\n",
              "      <td>131</td>\n",
              "      <td>7.9</td>\n",
              "      <td>3.8</td>\n",
              "      <td>6.4</td>\n",
              "      <td>2.0</td>\n",
              "      <td>2</td>\n",
              "      <td>2.084231</td>\n",
              "      <td>2.58727</td>\n",
              "      <td>1.552125</td>\n",
              "      <td>-0.095627</td>\n",
              "      <td>NaN</td>\n",
              "    </tr>\n",
              "  </tbody>\n",
              "</table>\n",
              "</div>"
            ],
            "text/plain": [
              "    Index   _1   _2   _3  ...  _2_zscore  _3_zscore  _4_zscore  target_zscore\n",
              "17    117  7.7  3.8  6.7  ...    2.58727   2.101225   0.639965            NaN\n",
              "31    131  7.9  3.8  6.4  ...    2.58727   1.552125  -0.095627            NaN\n",
              "\n",
              "[2 rows x 11 columns]"
            ]
          },
          "metadata": {
            "tags": []
          },
          "execution_count": 1748
        }
      ]
    },
    {
      "cell_type": "code",
      "metadata": {
        "id": "xSUfJfMqHKmg",
        "colab_type": "code",
        "colab": {}
      },
      "source": [
        ""
      ],
      "execution_count": 0,
      "outputs": []
    },
    {
      "cell_type": "code",
      "metadata": {
        "id": "rfv_qSw6Wb-h",
        "colab_type": "code",
        "colab": {}
      },
      "source": [
        ""
      ],
      "execution_count": 0,
      "outputs": []
    }
  ]
}