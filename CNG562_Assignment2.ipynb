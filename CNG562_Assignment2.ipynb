{
  "nbformat": 4,
  "nbformat_minor": 0,
  "metadata": {
    "colab": {
      "name": "CNG562-Assignment2.ipynb",
      "provenance": [],
      "include_colab_link": true
    },
    "kernelspec": {
      "name": "python3",
      "display_name": "Python 3"
    },
    "accelerator": "GPU"
  },
  "cells": [
    {
      "cell_type": "markdown",
      "metadata": {
        "id": "view-in-github",
        "colab_type": "text"
      },
      "source": [
        "<a href=\"https://colab.research.google.com/github/nisanuro/CNG562-Assignment-2/blob/master/CNG562_Assignment2.ipynb\" target=\"_parent\"><img src=\"https://colab.research.google.com/assets/colab-badge.svg\" alt=\"Open In Colab\"/></a>"
      ]
    },
    {
      "cell_type": "code",
      "metadata": {
        "id": "738YGK5FqWmB",
        "colab_type": "code",
        "colab": {}
      },
      "source": [
        "import matplotlib.pyplot as plt\n",
        "import numpy as np\n",
        "from sklearn.model_selection import train_test_split, KFold, StratifiedKFold, cross_val_score\n",
        "from mpl_toolkits.mplot3d import Axes3D\n",
        "from sklearn.neighbors import KNeighborsClassifier\n",
        "from sklearn import metrics, datasets, preprocessing\n",
        "from sklearn.preprocessing import StandardScaler\n",
        "from sklearn.decomposition import PCA\n",
        "from sklearn.svm import LinearSVC, SVC\n",
        "\n",
        "from sklearn.ensemble import AdaBoostClassifier, GradientBoostingClassifier\n",
        "%matplotlib inline"
      ],
      "execution_count": 0,
      "outputs": []
    },
    {
      "cell_type": "code",
      "metadata": {
        "id": "QlXDAHx2Gt_1",
        "colab_type": "code",
        "colab": {}
      },
      "source": [
        "def dataVisualizaion(iris):\n",
        "    x_index = 0\n",
        "    y_index = 1\n",
        "\n",
        "    formatter = plt.FuncFormatter(lambda i, *args: iris.target_names[int(i)])\n",
        "    \n",
        "    plt.figure(figsize=(5, 4))\n",
        "    plt.scatter(iris.data[:, x_index], iris.data[:, y_index], c=iris.target)\n",
        "    plt.colorbar(ticks=[0, 1, 2], format=formatter)\n",
        "    plt.xlabel(iris.feature_names[x_index])\n",
        "    plt.ylabel(iris.feature_names[y_index])\n",
        "\n",
        "    plt.tight_layout()\n",
        "    plt.show()"
      ],
      "execution_count": 0,
      "outputs": []
    },
    {
      "cell_type": "code",
      "metadata": {
        "id": "Feo4-PRyTbvz",
        "colab_type": "code",
        "colab": {}
      },
      "source": [
        "def threeDVisualization(X, y):\n",
        "\n",
        "    scaler = StandardScaler()\n",
        "    X_scaled = scaler.fit_transform(X)\n",
        "\n",
        "    fig = plt.figure(1, figsize=(16, 9))\n",
        "    ax = Axes3D(fig, elev=-150, azim=110)\n",
        "    X_reduced = PCA(n_components=3).fit_transform(X_scaled)\n",
        "    ax.scatter(X_reduced[:, 0], X_reduced[:, 1], X_reduced[:, 2], c=y, cmap=plt.cm.Set1, edgecolor='k', s=40)\n",
        "    ax.set_title(\"First three PCA directions\")\n",
        "    ax.set_xlabel(\"1st eigenvector\")\n",
        "    ax.w_xaxis.set_ticklabels([])\n",
        "    ax.set_ylabel(\"2nd eigenvector\")\n",
        "    ax.w_yaxis.set_ticklabels([])\n",
        "    ax.set_zlabel(\"3rd eigenvector\")\n",
        "    ax.w_zaxis.set_ticklabels([])\n",
        "\n",
        "    plt.show()\n",
        "    print(\"The number of features in the new subspace is \", X_reduced.shape[1])\n",
        "\n",
        "    return X_reduced"
      ],
      "execution_count": 0,
      "outputs": []
    },
    {
      "cell_type": "code",
      "metadata": {
        "id": "skeQ9JV9_rlO",
        "colab_type": "code",
        "colab": {}
      },
      "source": [
        "def randomOneHoldout(X_train, Y_train):\n",
        "    x_train, x_test, y_train, y_test = train_test_split(X_train, Y_train, test_size=0.2, random_state=0)\n",
        "    return x_train, x_test, y_train, y_test"
      ],
      "execution_count": 0,
      "outputs": []
    },
    {
      "cell_type": "code",
      "metadata": {
        "id": "mYjpybV6_v7v",
        "colab_type": "code",
        "colab": {}
      },
      "source": [
        "def stratifiedOneHoldout(X_train, Y_train):\n",
        "    x_train, x_test, y_train, y_test = train_test_split(X_train, Y_train, test_size=0.2, random_state=0)\n",
        "    return x_train, x_test, y_train, y_test"
      ],
      "execution_count": 0,
      "outputs": []
    },
    {
      "cell_type": "code",
      "metadata": {
        "id": "7BVBws30S0w7",
        "colab_type": "code",
        "colab": {}
      },
      "source": [
        "def kNN(k: int, metric: str, X_train, Y_train):\n",
        "  \n",
        "    #Model\n",
        "    if metric == \"mahalanobis\":\n",
        "      knn = KNeighborsClassifier(n_neighbors=k, weights='distance', metric=metric, algorithm=\"brute\", metric_params={'V': np.cov(X_train)})\n",
        "    else:\n",
        "      knn = KNeighborsClassifier(n_neighbors=k, weights='distance', metric=metric)\n",
        "\n",
        "    #5-Fold\n",
        "    #cv_result_knn_5 = cross_val_score(knn, X_train, Y_train, cv=5, scoring='accuracy')\n",
        "  \n",
        "    #10-Fold\n",
        "    cv_result_knn_10 = cross_val_score(knn, X_train, Y_train, cv=10, scoring='accuracy')\n",
        "  \n",
        "    #Random One Holdout\n",
        "    #x_train, x_test, y_train, y_test_random = randomOneHoldout(X_train, Y_train)\n",
        "    #knn.fit(x_train, y_train)\n",
        "\n",
        "    #y_pred_knn_random = knn.predict(x_test)\n",
        "  \n",
        "    #Stratified One Holdout\n",
        "    #x_train, x_test, y_train, y_test_stratified = stratifiedOneHoldout(X_train, Y_train)\n",
        "    #knn.fit(x_train, y_train)\n",
        "    #y_pred_knn_stratified = knn.predict(x_test)\n",
        "\n",
        "    #print(\"5 Fold\")\n",
        "    #print(\"KNN Accuracy: \", cv_result_knn_5.mean())\n",
        "  \n",
        "    print(\"10 Fold\")\n",
        "    print(\"KNN Accuracy: \", cv_result_knn_10.mean())\n",
        "\n",
        "    #print(\"Random One Hold Out\")\n",
        "    #print(\"KNN Accuracy: \", 1 - metrics.mean_squared_error(y_test_random, y_pred_knn_random))\n",
        "  \n",
        "    #print(\"Stratified One Hold Out Fold\")\n",
        "    #print(\"KNN Accuracy: \", 1 - metrics.mean_squared_error(y_test_stratified, y_pred_knn_stratified))"
      ],
      "execution_count": 0,
      "outputs": []
    },
    {
      "cell_type": "code",
      "metadata": {
        "id": "4k3k_9eDQ6t9",
        "colab_type": "code",
        "colab": {}
      },
      "source": [
        "def svm(X_train, Y_train, kernel, weight, gamma):\n",
        "\n",
        "    svm = SVC(C=1, kernel=kernel, degree=3, gamma=gamma, coef0=0.0, shrinking=True, \n",
        "          probability=False, tol=0.001, cache_size=200, class_weight=weight,\n",
        "          max_iter=-1, decision_function_shape=\"ovr\", random_state = 0)\n",
        "\n",
        "    #5-Fold\n",
        "    cv_result_svm_5 = cross_val_score(svm, X_train, Y_train, cv=5, scoring='accuracy')\n",
        "  \n",
        "    #10-Fold\n",
        "    cv_result_svm_10 = cross_val_score(svm, X_train, Y_train, cv=10, scoring='accuracy')\n",
        "  \n",
        "    #Random One Holdout\n",
        "    x_train, x_test, y_train, y_test_random = randomOneHoldout(X_train, Y_train)\n",
        "    svm.fit(x_train, y_train)\n",
        "    y_pred_svm_random = svm.predict(x_test)\n",
        "  \n",
        "    #Stratified One Holdout\n",
        "    x_train, x_test, y_train, y_test_stratified = stratifiedOneHoldout(X_train, Y_train)\n",
        "    svm.fit(x_train, y_train)\n",
        "    y_pred_svm_stratified = svm.predict(x_test)\n",
        "\n",
        "    print(\"5 Fold\")\n",
        "    print(\"SVM Accuracy: \", cv_result_svm_5.mean())\n",
        "  \n",
        "    print(\"10 Fold\")\n",
        "    print(\"SVM Accuracy: \", cv_result_svm_10.mean())\n",
        "\n",
        "    print(\"Random One Hold Out\")\n",
        "    print(\"SVM Accuracy: \", 1 - metrics.mean_squared_error(y_test_random, y_pred_svm_random))\n",
        "  \n",
        "    print(\"Stratified One Hold Out Fold\")\n",
        "    print(\"SVM Accuracy: \", 1 - metrics.mean_squared_error(y_test_stratified, y_pred_svm_stratified))"
      ],
      "execution_count": 0,
      "outputs": []
    },
    {
      "cell_type": "code",
      "metadata": {
        "id": "7-bInRUkY-PB",
        "colab_type": "code",
        "colab": {}
      },
      "source": [
        "def AdaBoost(model, n_estimators, learning_rate, X_train, Y_train, X_test, Y_test):\n",
        "    clf = AdaBoostClassifier(base_estimator = model, n_estimators= n_estimators, learning_rate=learning_rate, random_state=0, algorithm = 'SAMME.R')\n",
        "    clf.fit(X_train, Y_train)\n",
        "    clf.predict(X_test)\n",
        "    print(clf.score(X_train, Y_train))"
      ],
      "execution_count": 0,
      "outputs": []
    },
    {
      "cell_type": "code",
      "metadata": {
        "id": "9zD9wkpoZuj8",
        "colab_type": "code",
        "colab": {}
      },
      "source": [
        "def GradientBoost(n_estimators, learning_rate, X_train, Y_train, X_test, Y_test):\n",
        "    clf = GradientBoostingClassifier(n_estimators= n_estimators, learning_rate=learning_rate, random_state=0)\n",
        "    clf.fit(X_train, Y_train)\n",
        "    clf.predict(X_test)\n",
        "    print(clf.score(X_train, Y_train))"
      ],
      "execution_count": 0,
      "outputs": []
    },
    {
      "cell_type": "code",
      "metadata": {
        "colab_type": "code",
        "id": "3ZtQKDStF5Sm",
        "colab": {}
      },
      "source": [
        "def fourError(X, Y, model):\n",
        "    X_train, X_test, Y_train, Y_test = train_test_split(X, Y, test_size=0.3, random_state=0, stratify=Y)\n",
        "    \n",
        "    Train_x, TrainDev_x, Train_y, TrainDev_y = train_test_split(X_train, Y_train, test_size=0.2, random_state=0, stratify=Y_train)\n",
        "    Dev_x, Test_x, Dev_y, Test_y = train_test_split(X_test, Y_test, test_size=0.5, random_state=0, stratify=Y_test)\n",
        "\n",
        "    model.fit(Train_x, Train_y)\n",
        "\n",
        "    trainDev_pred = model.predict(TrainDev_x)\n",
        "  \n",
        "    print(\"Train-Train Dev,   e1:\", metrics.mean_squared_error(TrainDev_y, trainDev_pred),\"\\n\")\n",
        "    print(\"KNN Accuracy: \", 1 - metrics.mean_squared_error(TrainDev_y, trainDev_pred))\n",
        "\n",
        "    dev_pred = model.predict(Dev_x)\n",
        "\n",
        "    print(\"Train-Dev,   e2\", metrics.mean_squared_error(Dev_y, dev_pred),\"\\n\")\n",
        "    print(\"KNN Accuracy: \", 1 - metrics.mean_squared_error(Dev_y, dev_pred))\n",
        "\n",
        "    test_pred = model.predict(Test_x)\n",
        "\n",
        "    print(\"Train-Test,   e3: \", metrics.mean_squared_error(Test_y, test_pred),\"\\n\")\n",
        "    print(\"KNN Accuracy: \", 1 - metrics.mean_squared_error(Test_y, test_pred))\n",
        "\n",
        "    devTest_pred = model.predict(X_test)\n",
        "\n",
        "    print(\"Train-(Dev+Test),   e4: \", metrics.mean_squared_error(Y_test, devTest_pred),\"\\n\")\n",
        "    print(\"KNN Accuracy: \", 1 - metrics.mean_squared_error(Y_test, devTest_pred))"
      ],
      "execution_count": 0,
      "outputs": []
    },
    {
      "cell_type": "code",
      "metadata": {
        "id": "RGEz0duV_zJJ",
        "colab_type": "code",
        "colab": {}
      },
      "source": [
        "def displayAccuracy(X, Y):\n",
        "    X_train, X_test, Y_train, Y_test = train_test_split(X, Y, test_size=0.3, random_state=0)\n",
        "\n",
        "    k = [3, 5, 7, 9, 11]\n",
        "    metric = [\"euclidean\", \"manhattan\", \"chebyshev\", \"mahalanobis\", \"minkowski\", \"wminkowski\", \"seuclidean\"]\n",
        "    kernel = [\"linear\", \"poly\", \"rbf\", \"sigmoid\"]\n",
        "    weight = [None, \"balanced\"]\n",
        "    gamma = [\"auto\", \"scale\"]\n",
        "    '''\n",
        "\n",
        "    for i in k:\n",
        "      for j in metric:\n",
        "          if j != \"wminkowski\" and j != \"seuclidean\":\n",
        "            print(\"K: {} - Metric: {}\".format(i, j))\n",
        "            kNN(i, j, X_train, Y_train)\n",
        "          print()\n",
        "    '''\n",
        "    for i in kernel:\n",
        "        for j in weight:\n",
        "            for k in gamma:\n",
        "                if j != \"linear\":\n",
        "                    print(\"Kernel: {} - Weight: {} - Gamma: {}\".format(str(i), j, k))\n",
        "                    svm(X_train, Y_train, i, j, k)\n",
        "                else:\n",
        "                    print(\"Kernel: {} - Weight: {} - Gamma: {}\".format(str(i), j, \"auto\"))\n",
        "                    svm(X_train, Y_train, i, j, k)\n",
        "        print()\n"
      ],
      "execution_count": 0,
      "outputs": []
    },
    {
      "cell_type": "code",
      "metadata": {
        "id": "er-z4_9i_223",
        "colab_type": "code",
        "outputId": "657107fe-18fb-419f-f165-18caef1e7c89",
        "colab": {
          "base_uri": "https://localhost:8080/",
          "height": 1000
        }
      },
      "source": [
        "if __name__ == '__main__':\n",
        "\n",
        "  iris = datasets.load_iris()\n",
        "  X = iris.data\n",
        "  Y = iris.target\n",
        "  \n",
        "  #threeDVisualization(iris.data[:, :], Y)\n",
        "  \n",
        "  # Z-Score\n",
        "  scaler = StandardScaler()\n",
        "  scaler.fit(X)\n",
        "  z_score = scaler.transform(X)\n",
        "\n",
        "  #Displaying result according to each type of methods and regression model\n",
        "  print(\"\\nRaw: \")\n",
        "  displayAccuracy(X,Y)\n",
        "  print(\"\\nZ-Score: \")\n",
        "  displayAccuracy(z_score,Y)"
      ],
      "execution_count": 23,
      "outputs": [
        {
          "output_type": "stream",
          "text": [
            "\n",
            "Raw: \n",
            "K: 3 - Metric: euclidean\n",
            "10 Fold\n",
            "KNN Accuracy:  0.9427272727272727\n",
            "\n",
            "K: 3 - Metric: manhattan\n",
            "10 Fold\n",
            "KNN Accuracy:  0.941818181818182\n",
            "\n",
            "K: 3 - Metric: chebyshev\n",
            "10 Fold\n",
            "KNN Accuracy:  0.9518181818181818\n",
            "\n",
            "K: 3 - Metric: mahalanobis\n",
            "10 Fold\n",
            "KNN Accuracy:  0.8981818181818182\n",
            "\n",
            "K: 3 - Metric: minkowski\n",
            "10 Fold\n",
            "KNN Accuracy:  0.9427272727272727\n",
            "\n",
            "\n",
            "\n",
            "K: 5 - Metric: euclidean\n",
            "10 Fold\n",
            "KNN Accuracy:  0.9509090909090909\n",
            "\n",
            "K: 5 - Metric: manhattan\n",
            "10 Fold\n",
            "KNN Accuracy:  0.9509090909090909\n",
            "\n",
            "K: 5 - Metric: chebyshev\n",
            "10 Fold\n",
            "KNN Accuracy:  0.9709090909090909\n",
            "\n",
            "K: 5 - Metric: mahalanobis\n",
            "10 Fold\n",
            "KNN Accuracy:  0.8790909090909091\n",
            "\n",
            "K: 5 - Metric: minkowski\n",
            "10 Fold\n",
            "KNN Accuracy:  0.9509090909090909\n",
            "\n",
            "\n",
            "\n",
            "K: 7 - Metric: euclidean\n",
            "10 Fold\n",
            "KNN Accuracy:  0.9609090909090909\n",
            "\n",
            "K: 7 - Metric: manhattan\n",
            "10 Fold\n",
            "KNN Accuracy:  0.9609090909090909\n",
            "\n",
            "K: 7 - Metric: chebyshev\n",
            "10 Fold\n",
            "KNN Accuracy:  0.9709090909090909\n",
            "\n",
            "K: 7 - Metric: mahalanobis\n",
            "10 Fold\n",
            "KNN Accuracy:  0.889090909090909\n",
            "\n",
            "K: 7 - Metric: minkowski\n",
            "10 Fold\n",
            "KNN Accuracy:  0.9609090909090909\n",
            "\n",
            "\n",
            "\n",
            "K: 9 - Metric: euclidean\n",
            "10 Fold\n",
            "KNN Accuracy:  0.9609090909090909\n",
            "\n",
            "K: 9 - Metric: manhattan\n",
            "10 Fold\n",
            "KNN Accuracy:  0.9609090909090909\n",
            "\n",
            "K: 9 - Metric: chebyshev\n",
            "10 Fold\n",
            "KNN Accuracy:  0.9609090909090909\n",
            "\n",
            "K: 9 - Metric: mahalanobis\n",
            "10 Fold\n",
            "KNN Accuracy:  0.8800000000000001\n",
            "\n",
            "K: 9 - Metric: minkowski\n",
            "10 Fold\n",
            "KNN Accuracy:  0.9609090909090909\n",
            "\n",
            "\n",
            "\n",
            "K: 11 - Metric: euclidean\n",
            "10 Fold\n",
            "KNN Accuracy:  0.9609090909090909\n",
            "\n",
            "K: 11 - Metric: manhattan\n",
            "10 Fold\n",
            "KNN Accuracy:  0.9609090909090909\n",
            "\n",
            "K: 11 - Metric: chebyshev\n",
            "10 Fold\n",
            "KNN Accuracy:  0.9427272727272727\n",
            "\n",
            "K: 11 - Metric: mahalanobis\n",
            "10 Fold\n",
            "KNN Accuracy:  0.8700000000000001\n",
            "\n",
            "K: 11 - Metric: minkowski\n",
            "10 Fold\n",
            "KNN Accuracy:  0.9609090909090909\n",
            "\n",
            "\n",
            "\n",
            "\n",
            "Z-Score: \n",
            "K: 3 - Metric: euclidean\n",
            "10 Fold\n",
            "KNN Accuracy:  0.9427272727272727\n",
            "\n",
            "K: 3 - Metric: manhattan\n",
            "10 Fold\n",
            "KNN Accuracy:  0.9518181818181818\n",
            "\n",
            "K: 3 - Metric: chebyshev\n",
            "10 Fold\n",
            "KNN Accuracy:  0.9245454545454546\n",
            "\n",
            "K: 3 - Metric: mahalanobis\n",
            "10 Fold\n",
            "KNN Accuracy:  0.8981818181818182\n",
            "\n",
            "K: 3 - Metric: minkowski\n",
            "10 Fold\n",
            "KNN Accuracy:  0.9427272727272727\n",
            "\n",
            "\n",
            "\n",
            "K: 5 - Metric: euclidean\n",
            "10 Fold\n",
            "KNN Accuracy:  0.9627272727272727\n",
            "\n",
            "K: 5 - Metric: manhattan\n",
            "10 Fold\n",
            "KNN Accuracy:  0.9427272727272727\n",
            "\n",
            "K: 5 - Metric: chebyshev\n",
            "10 Fold\n",
            "KNN Accuracy:  0.9445454545454546\n",
            "\n",
            "K: 5 - Metric: mahalanobis\n",
            "10 Fold\n",
            "KNN Accuracy:  0.8790909090909091\n",
            "\n",
            "K: 5 - Metric: minkowski\n",
            "10 Fold\n",
            "KNN Accuracy:  0.9627272727272727\n",
            "\n",
            "\n",
            "\n",
            "K: 7 - Metric: euclidean\n",
            "10 Fold\n",
            "KNN Accuracy:  0.9527272727272728\n",
            "\n",
            "K: 7 - Metric: manhattan\n",
            "10 Fold\n",
            "KNN Accuracy:  0.9436363636363636\n",
            "\n",
            "K: 7 - Metric: chebyshev\n",
            "10 Fold\n",
            "KNN Accuracy:  0.9345454545454546\n",
            "\n",
            "K: 7 - Metric: mahalanobis\n",
            "10 Fold\n",
            "KNN Accuracy:  0.889090909090909\n",
            "\n",
            "K: 7 - Metric: minkowski\n",
            "10 Fold\n",
            "KNN Accuracy:  0.9527272727272728\n",
            "\n",
            "\n",
            "\n",
            "K: 9 - Metric: euclidean\n",
            "10 Fold\n",
            "KNN Accuracy:  0.9427272727272727\n",
            "\n",
            "K: 9 - Metric: manhattan\n",
            "10 Fold\n",
            "KNN Accuracy:  0.9427272727272727\n",
            "\n",
            "K: 9 - Metric: chebyshev\n",
            "10 Fold\n",
            "KNN Accuracy:  0.9436363636363637\n",
            "\n",
            "K: 9 - Metric: mahalanobis\n",
            "10 Fold\n",
            "KNN Accuracy:  0.8800000000000001\n",
            "\n",
            "K: 9 - Metric: minkowski\n",
            "10 Fold\n",
            "KNN Accuracy:  0.9427272727272727\n",
            "\n",
            "\n",
            "\n",
            "K: 11 - Metric: euclidean\n",
            "10 Fold\n",
            "KNN Accuracy:  0.9427272727272727\n",
            "\n",
            "K: 11 - Metric: manhattan\n",
            "10 Fold\n",
            "KNN Accuracy:  0.9427272727272727\n",
            "\n",
            "K: 11 - Metric: chebyshev\n",
            "10 Fold\n",
            "KNN Accuracy:  0.9627272727272727\n",
            "\n",
            "K: 11 - Metric: mahalanobis\n",
            "10 Fold\n",
            "KNN Accuracy:  0.8700000000000001\n",
            "\n",
            "K: 11 - Metric: minkowski\n",
            "10 Fold\n",
            "KNN Accuracy:  0.9427272727272727\n",
            "\n",
            "\n",
            "\n"
          ],
          "name": "stdout"
        }
      ]
    },
    {
      "cell_type": "code",
      "metadata": {
        "id": "Yab09cbEcfMI",
        "colab_type": "code",
        "outputId": "f2d56b2a-42cf-46ce-98a7-b14ec1455b94",
        "colab": {
          "base_uri": "https://localhost:8080/",
          "height": 272
        }
      },
      "source": [
        "    svm = SVC(C=1, degree=3, gamma=\"scale\", coef0=0.0, shrinking=True, \n",
        "          probability=True, tol=0.001, cache_size=200, class_weight=\"balanced\",\n",
        "          max_iter=-1, decision_function_shape=\"ovr\", random_state = 0)\n",
        "    \n",
        "    X_train, X_test, Y_train, Y_test = train_test_split(X, Y, test_size=0.2, random_state=0)\n",
        "    \n",
        "    svm.fit(X_train, Y_train)\n",
        "    y_pred = svm.predict(X_test)\n",
        "    print(\"SVM Accuracy: \", 1 - metrics.mean_squared_error(Y_test, y_pred))\n",
        "\n",
        "    fourError(X, Y, svm)\n",
        "    AdaBoost(svm, 100, 1, X_train, Y_train, X_test, Y_test)\n",
        "    GradientBoost(100, 1, X_train, Y_train, X_test, Y_test)"
      ],
      "execution_count": 24,
      "outputs": [
        {
          "output_type": "stream",
          "text": [
            "SVM Accuracy:  1.0\n",
            "Train-Train Dev,   e1: 0.09523809523809523 \n",
            "\n",
            "KNN Accuracy:  0.9047619047619048\n",
            "Train-Dev,   e2 0.0 \n",
            "\n",
            "KNN Accuracy:  1.0\n",
            "Train-Test,   e3:  0.0 \n",
            "\n",
            "KNN Accuracy:  1.0\n",
            "Train-(Dev+Test),   e4:  0.0 \n",
            "\n",
            "KNN Accuracy:  1.0\n",
            "0.9833333333333333\n",
            "1.0\n"
          ],
          "name": "stdout"
        }
      ]
    },
    {
      "cell_type": "code",
      "metadata": {
        "id": "UIMxeTVac8xO",
        "colab_type": "code",
        "colab": {
          "base_uri": "https://localhost:8080/",
          "height": 221
        },
        "outputId": "aa95df8d-6ce3-41c1-93cb-b74d5b9d9a56"
      },
      "source": [
        "knn = KNeighborsClassifier(n_neighbors=7, weights='distance', metric=\"chebyshev\")\n",
        "fourError(X, Y, knn)"
      ],
      "execution_count": 40,
      "outputs": [
        {
          "output_type": "stream",
          "text": [
            "Train-Train Dev,   e1: 0.09523809523809523 \n",
            "\n",
            "KNN Accuracy:  0.9047619047619048\n",
            "Train-Dev,   e2 0.0 \n",
            "\n",
            "KNN Accuracy:  1.0\n",
            "Train-Test,   e3:  0.0 \n",
            "\n",
            "KNN Accuracy:  1.0\n",
            "Train-(Dev+Test),   e4:  0.0 \n",
            "\n",
            "KNN Accuracy:  1.0\n"
          ],
          "name": "stdout"
        }
      ]
    },
    {
      "cell_type": "code",
      "metadata": {
        "id": "BP1cmRoz9naK",
        "colab_type": "code",
        "colab": {
          "base_uri": "https://localhost:8080/",
          "height": 221
        },
        "outputId": "268e16f6-2ff0-4773-e77d-94a093dbca29"
      },
      "source": [
        "knn = KNeighborsClassifier(n_neighbors=5, weights='uniform', metric=\"minkowski\")\n",
        "fourError(X, Y, knn)"
      ],
      "execution_count": 41,
      "outputs": [
        {
          "output_type": "stream",
          "text": [
            "Train-Train Dev,   e1: 0.14285714285714285 \n",
            "\n",
            "KNN Accuracy:  0.8571428571428572\n",
            "Train-Dev,   e2 0.0 \n",
            "\n",
            "KNN Accuracy:  1.0\n",
            "Train-Test,   e3:  0.0 \n",
            "\n",
            "KNN Accuracy:  1.0\n",
            "Train-(Dev+Test),   e4:  0.0 \n",
            "\n",
            "KNN Accuracy:  1.0\n"
          ],
          "name": "stdout"
        }
      ]
    },
    {
      "cell_type": "code",
      "metadata": {
        "id": "DiUWutUZ-DnU",
        "colab_type": "code",
        "colab": {
          "base_uri": "https://localhost:8080/",
          "height": 221
        },
        "outputId": "1e2af2b2-91d3-483e-bc23-7e88fe49a13c"
      },
      "source": [
        "knn = KNeighborsClassifier(n_neighbors=7, weights='uniform', metric=\"euclidean\")\n",
        "fourError(X, Y, knn)"
      ],
      "execution_count": 42,
      "outputs": [
        {
          "output_type": "stream",
          "text": [
            "Train-Train Dev,   e1: 0.14285714285714285 \n",
            "\n",
            "KNN Accuracy:  0.8571428571428572\n",
            "Train-Dev,   e2 0.0 \n",
            "\n",
            "KNN Accuracy:  1.0\n",
            "Train-Test,   e3:  0.0 \n",
            "\n",
            "KNN Accuracy:  1.0\n",
            "Train-(Dev+Test),   e4:  0.0 \n",
            "\n",
            "KNN Accuracy:  1.0\n"
          ],
          "name": "stdout"
        }
      ]
    },
    {
      "cell_type": "code",
      "metadata": {
        "id": "5Nd-5rhB-13I",
        "colab_type": "code",
        "colab": {}
      },
      "source": [
        ""
      ],
      "execution_count": 0,
      "outputs": []
    }
  ]
}