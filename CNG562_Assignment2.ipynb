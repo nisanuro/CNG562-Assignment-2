{
  "nbformat": 4,
  "nbformat_minor": 0,
  "metadata": {
    "colab": {
      "name": "CNG562-Assignment2.ipynb",
      "provenance": [],
      "include_colab_link": true
    },
    "kernelspec": {
      "name": "python3",
      "display_name": "Python 3"
    }
  },
  "cells": [
    {
      "cell_type": "markdown",
      "metadata": {
        "id": "view-in-github",
        "colab_type": "text"
      },
      "source": [
        "<a href=\"https://colab.research.google.com/github/nisanuro/CNG562-Assignment-2/blob/naive/CNG562_Assignment2.ipynb\" target=\"_parent\"><img src=\"https://colab.research.google.com/assets/colab-badge.svg\" alt=\"Open In Colab\"/></a>"
      ]
    },
    {
      "cell_type": "code",
      "metadata": {
        "id": "738YGK5FqWmB",
        "colab_type": "code",
        "colab": {}
      },
      "source": [
        "import matplotlib.pyplot as plt  \n",
        "from sklearn.model_selection import train_test_split, KFold, StratifiedKFold, cross_val_score\n",
        "from sklearn import metrics, datasets, preprocessing\n",
        "%matplotlib inline\n",
        "from sklearn.naive_bayes import GaussianNB, BernoulliNB, CategoricalNB, ComplementNB, MultinomialNB"
      ],
      "execution_count": 0,
      "outputs": []
    },
    {
      "cell_type": "code",
      "metadata": {
        "id": "skeQ9JV9_rlO",
        "colab_type": "code",
        "colab": {}
      },
      "source": [
        "def randomOneHoldout(X_train, Y_train):\n",
        "\n",
        "  x_train, x_test, y_train, y_test = train_test_split(X_train, Y_train, test_size=0.2, random_state=0)\n",
        "\n",
        "  return x_train, x_test, y_train, y_test"
      ],
      "execution_count": 0,
      "outputs": []
    },
    {
      "cell_type": "code",
      "metadata": {
        "id": "mYjpybV6_v7v",
        "colab_type": "code",
        "colab": {}
      },
      "source": [
        "def stratifiedOneHoldout(X_train, Y_train):\n",
        "  \n",
        "  x_train, x_test, y_train, y_test = train_test_split(X_train, Y_train, test_size=0.2, random_state=0, stratify=Y_train)\n",
        "  \n",
        "  return x_train, x_test, y_train, y_test"
      ],
      "execution_count": 0,
      "outputs": []
    },
    {
      "cell_type": "code",
      "metadata": {
        "id": "RGEz0duV_zJJ",
        "colab_type": "code",
        "colab": {}
      },
      "source": [
        "def displayAccuracy(X, Y):\n",
        "    \n",
        "    X_train, X_test, Y_train, Y_test = train_test_split(X, Y, test_size=0.2, random_state=0)\n",
        "    \n",
        "    NaiveBayes(X_train, Y_train)"
      ],
      "execution_count": 0,
      "outputs": []
    },
    {
      "cell_type": "code",
      "metadata": {
        "id": "k95XLXS5OIZy",
        "colab_type": "code",
        "colab": {}
      },
      "source": [
        "def NaiveBayes(X_train, Y_train):\n",
        "\n",
        "    gaussian = GaussianNB()\n",
        "    categorical = CategoricalNB()\n",
        "    bernoulli = BernoulliNB()\n",
        "    complement = ComplementNB()\n",
        "    multinomial = MultinomialNB()\n",
        "\n",
        "    models = [gaussian, categorical, bernoulli, complement, multinomial]\n",
        "\n",
        "    # 5-Fold\n",
        "    print(\"\\n5-Fold\")\n",
        "    for i in models:\n",
        "        cv = cross_val_score(i, X_train, Y_train, cv=5, scoring='accuracy')\n",
        "        print(str(i).split('N')[0] + \" Naive Bayes Accuracy: \", cv.mean())\n",
        "\n",
        "    # 10-Fold\n",
        "    print(\"\\n10-Fold\")\n",
        "    for i in models:\n",
        "        cv = cross_val_score(i, X_train, Y_train, cv=10, scoring='accuracy')\n",
        "        print(str(i).split('N')[0] + \" Naive Bayes Accuracy: \", cv.mean())\n",
        "\n",
        "    # Random One Holdout\n",
        "    x_train, x_test, y_train, y_test = randomOneHoldout(X_train, Y_train)\n",
        "\n",
        "    print(\"\\nRandom One Holdout\")\n",
        "    for i in models:\n",
        "        i.fit(x_train, y_train)\n",
        "        y_pred = i.predict(x_test)\n",
        "        print(str(i).split('N')[0] + \" Naive Bayes Accuracy: \", 1 - metrics.mean_squared_error(y_test, y_pred))\n",
        "\n",
        "\n",
        "    # Stratified One Holdout\n",
        "    x_train, x_test, y_train, y_test = stratifiedOneHoldout(X_train, Y_train)\n",
        "    \n",
        "    print(\"\\nStratified One Holdout\")\n",
        "    for i in models:\n",
        "        i.fit(x_train, y_train)\n",
        "        y_pred = i.predict(x_test)\n",
        "        print(str(i).split('N')[0] + \" Naive Bayes Accuracy: \", 1 - metrics.mean_squared_error(y_test, y_pred))\n",
        "                         \n",
        "\n",
        "                "
      ],
      "execution_count": 0,
      "outputs": []
    },
    {
      "cell_type": "code",
      "metadata": {
        "id": "er-z4_9i_223",
        "colab_type": "code",
        "outputId": "8e59291f-9860-4820-ef52-d032f2a3b3c5",
        "colab": {
          "base_uri": "https://localhost:8080/",
          "height": 621
        }
      },
      "source": [
        "if __name__ == '__main__':\n",
        "\n",
        "  iris = datasets.load_iris()\n",
        "  \n",
        "  X = iris.data\n",
        "  Y = iris.target\n",
        "  \n",
        "  # L1 normalization\n",
        "  l1_norm = preprocessing.normalize(X, norm=\"l1\")\n",
        "  # Mean removal\n",
        "  mean_removal = preprocessing.scale(X)\n",
        "\n",
        "  '''#mean & standart deviation before mean removal \n",
        "  print(X.mean(axis=0))\n",
        "  print(X.std(axis=0))\n",
        "\n",
        "  #mean & standart deviation after mean removal \n",
        "  print(mean_removal.mean(axis=0))\n",
        "  print(mean_removal.std(axis=0))'''\n",
        "\n",
        "  #Displaying result according to each type of methods and regression model\n",
        "  print(\"\\nRaw: \")\n",
        "  displayAccuracy(X,Y)\n",
        "  print(\"\\nL1 Normalization: \")\n",
        " # displayAccuracy(l1_norm,Y)\n",
        "  print(\"\\nMean Removal: \")\n",
        " # displayAccuracy(mean_removal,Y)"
      ],
      "execution_count": 60,
      "outputs": [
        {
          "output_type": "stream",
          "text": [
            "\n",
            "Raw: \n",
            "\n",
            "5-Fold\n",
            "Gaussian Naive Bayes Accuracy:  0.95\n",
            "Categorical Naive Bayes Accuracy:  0.9333333333333333\n",
            "Bernoulli Naive Bayes Accuracy:  0.36666666666666664\n",
            "Complement Naive Bayes Accuracy:  0.6916666666666667\n",
            "Multinomial Naive Bayes Accuracy:  0.7166666666666666\n",
            "\n",
            "10-Fold\n",
            "Gaussian Naive Bayes Accuracy:  0.9499999999999998\n",
            "Categorical Naive Bayes Accuracy:  0.9166666666666666\n",
            "Bernoulli Naive Bayes Accuracy:  0.3666666666666667\n",
            "Complement Naive Bayes Accuracy:  0.6916666666666667\n",
            "Multinomial Naive Bayes Accuracy:  0.7083333333333334\n",
            "\n",
            "Random One Holdout\n",
            "Gaussian Naive Bayes Accuracy:  0.875\n",
            "Categorical Naive Bayes Accuracy:  0.875\n",
            "Bernoulli Naive Bayes Accuracy:  -0.625\n",
            "Complement Naive Bayes Accuracy:  0.7083333333333333\n",
            "Multinomial Naive Bayes Accuracy:  0.7083333333333333\n",
            "\n",
            "Stratified One Holdout\n",
            "Gaussian Naive Bayes Accuracy:  0.9166666666666666\n",
            "Categorical Naive Bayes Accuracy:  0.9583333333333334\n",
            "Bernoulli Naive Bayes Accuracy:  -0.625\n",
            "Complement Naive Bayes Accuracy:  0.7083333333333333\n",
            "Multinomial Naive Bayes Accuracy:  0.7083333333333333\n",
            "\n",
            "L1 Normalization: \n",
            "\n",
            "Mean Removal: \n"
          ],
          "name": "stdout"
        }
      ]
    },
    {
      "cell_type": "code",
      "metadata": {
        "id": "XgY0d9DaKApK",
        "colab_type": "code",
        "outputId": "d0f84896-e54e-469d-f623-3698be9df868",
        "colab": {
          "base_uri": "https://localhost:8080/",
          "height": 1000
        }
      },
      "source": [
        "X_train, X_test, Y_train, Y_test = train_test_split(l1_norm, Y, test_size=0.2, random_state=0)\n",
        "stratifiedOneHoldout(X_train, Y_train)\n"
      ],
      "execution_count": 61,
      "outputs": [
        {
          "output_type": "execute_result",
          "data": {
            "text/plain": [
              "(array([[0.52083333, 0.33333333, 0.125     , 0.02083333],\n",
              "        [0.44055944, 0.16083916, 0.30769231, 0.09090909],\n",
              "        [0.38922156, 0.17964072, 0.31137725, 0.11976048],\n",
              "        [0.37142857, 0.17142857, 0.33142857, 0.12571429],\n",
              "        [0.37113402, 0.18556701, 0.31443299, 0.12886598],\n",
              "        [0.39263804, 0.16564417, 0.32515337, 0.11656442],\n",
              "        [0.3986014 , 0.1958042 , 0.31468531, 0.09090909],\n",
              "        [0.37869822, 0.16568047, 0.33136095, 0.12426036],\n",
              "        [0.5       , 0.34042553, 0.13829787, 0.0212766 ],\n",
              "        [0.37341772, 0.18987342, 0.32278481, 0.11392405],\n",
              "        [0.38121547, 0.17679558, 0.31491713, 0.12707182],\n",
              "        [0.40425532, 0.21276596, 0.29787234, 0.08510638],\n",
              "        [0.52380952, 0.33333333, 0.12380952, 0.01904762],\n",
              "        [0.5046729 , 0.31775701, 0.1588785 , 0.01869159],\n",
              "        [0.38461538, 0.19230769, 0.30769231, 0.11538462],\n",
              "        [0.3583815 , 0.19653179, 0.31213873, 0.13294798],\n",
              "        [0.37419355, 0.17419355, 0.32903226, 0.12258065],\n",
              "        [0.5046729 , 0.31775701, 0.14018692, 0.03738318],\n",
              "        [0.47663551, 0.34579439, 0.14018692, 0.03738318],\n",
              "        [0.5       , 0.34313725, 0.1372549 , 0.01960784],\n",
              "        [0.40410959, 0.20547945, 0.28767123, 0.10273973],\n",
              "        [0.375     , 0.16447368, 0.32894737, 0.13157895],\n",
              "        [0.4893617 , 0.32978723, 0.15957447, 0.0212766 ],\n",
              "        [0.42647059, 0.19852941, 0.28676471, 0.08823529],\n",
              "        [0.40127389, 0.17197452, 0.31210191, 0.11464968],\n",
              "        [0.3956044 , 0.17582418, 0.32967033, 0.0989011 ],\n",
              "        [0.47706422, 0.37614679, 0.13761468, 0.00917431],\n",
              "        [0.4296875 , 0.1875    , 0.296875  , 0.0859375 ],\n",
              "        [0.37362637, 0.17582418, 0.32417582, 0.12637363],\n",
              "        [0.39428571, 0.17714286, 0.30857143, 0.12      ],\n",
              "        [0.40853659, 0.18292683, 0.30487805, 0.10365854],\n",
              "        [0.51612903, 0.32258065, 0.15053763, 0.01075269],\n",
              "        [0.41353383, 0.18796992, 0.30075188, 0.09774436],\n",
              "        [0.48453608, 0.32989691, 0.16494845, 0.02061856],\n",
              "        [0.48351648, 0.35164835, 0.14285714, 0.02197802],\n",
              "        [0.47663551, 0.35514019, 0.14018692, 0.02803738],\n",
              "        [0.40104167, 0.14583333, 0.34895833, 0.10416667],\n",
              "        [0.51578947, 0.31578947, 0.14736842, 0.02105263],\n",
              "        [0.39303483, 0.18905473, 0.31840796, 0.09950249],\n",
              "        [0.37640449, 0.18539326, 0.32022472, 0.11797753],\n",
              "        [0.48      , 0.34      , 0.16      , 0.02      ],\n",
              "        [0.37647059, 0.16470588, 0.32941176, 0.12941176],\n",
              "        [0.42944785, 0.19631902, 0.28834356, 0.08588957],\n",
              "        [0.5       , 0.33333333, 0.14705882, 0.01960784],\n",
              "        [0.39487179, 0.13333333, 0.35384615, 0.11794872],\n",
              "        [0.38690476, 0.17857143, 0.32738095, 0.10714286],\n",
              "        [0.42241379, 0.20689655, 0.28448276, 0.0862069 ],\n",
              "        [0.38095238, 0.18452381, 0.32738095, 0.10714286],\n",
              "        [0.40659341, 0.15384615, 0.33516484, 0.1043956 ],\n",
              "        [0.49565217, 0.33043478, 0.14782609, 0.02608696],\n",
              "        [0.42748092, 0.19083969, 0.29770992, 0.08396947],\n",
              "        [0.40425532, 0.20567376, 0.29787234, 0.09219858],\n",
              "        [0.40816327, 0.14965986, 0.34013605, 0.10204082],\n",
              "        [0.4742268 , 0.35051546, 0.1443299 , 0.03092784],\n",
              "        [0.42073171, 0.18902439, 0.29878049, 0.09146341],\n",
              "        [0.42948718, 0.19871795, 0.28205128, 0.08974359],\n",
              "        [0.4893617 , 0.34042553, 0.14893617, 0.0212766 ],\n",
              "        [0.3559322 , 0.1920904 , 0.31638418, 0.13559322],\n",
              "        [0.41007194, 0.20143885, 0.29496403, 0.09352518],\n",
              "        [0.38690476, 0.19047619, 0.30357143, 0.11904762],\n",
              "        [0.51020408, 0.30612245, 0.16326531, 0.02040816],\n",
              "        [0.40909091, 0.17045455, 0.32954545, 0.09090909],\n",
              "        [0.39880952, 0.14880952, 0.3452381 , 0.10714286],\n",
              "        [0.50588235, 0.35294118, 0.12941176, 0.01176471],\n",
              "        [0.50980392, 0.33333333, 0.1372549 , 0.01960784],\n",
              "        [0.4453125 , 0.203125  , 0.2734375 , 0.078125  ],\n",
              "        [0.42647059, 0.19117647, 0.29411765, 0.08823529],\n",
              "        [0.41791045, 0.21641791, 0.26865672, 0.09701493],\n",
              "        [0.40127389, 0.15923567, 0.31847134, 0.12101911],\n",
              "        [0.47663551, 0.35514019, 0.14953271, 0.01869159],\n",
              "        [0.42857143, 0.19480519, 0.28571429, 0.09090909],\n",
              "        [0.5       , 0.34259259, 0.13888889, 0.01851852],\n",
              "        [0.43478261, 0.17391304, 0.30434783, 0.08695652],\n",
              "        [0.42647059, 0.19852941, 0.30147059, 0.07352941],\n",
              "        [0.41984733, 0.17557252, 0.30534351, 0.09923664],\n",
              "        [0.37419355, 0.17419355, 0.32903226, 0.12258065],\n",
              "        [0.53571429, 0.27380952, 0.1547619 , 0.03571429],\n",
              "        [0.39393939, 0.20454545, 0.29545455, 0.10606061],\n",
              "        [0.49019608, 0.35294118, 0.1372549 , 0.01960784],\n",
              "        [0.41447368, 0.16447368, 0.32236842, 0.09868421],\n",
              "        [0.37640449, 0.1741573 , 0.31460674, 0.13483146],\n",
              "        [0.375     , 0.20833333, 0.3125    , 0.10416667],\n",
              "        [0.39622642, 0.20754717, 0.29559748, 0.10062893],\n",
              "        [0.49438202, 0.33707865, 0.14606742, 0.02247191],\n",
              "        [0.48113208, 0.31132075, 0.16037736, 0.04716981],\n",
              "        [0.43589744, 0.21367521, 0.25641026, 0.09401709],\n",
              "        [0.39378238, 0.15544041, 0.34196891, 0.10880829],\n",
              "        [0.49484536, 0.31958763, 0.16494845, 0.02061856],\n",
              "        [0.37579618, 0.20382166, 0.30573248, 0.11464968],\n",
              "        [0.40314136, 0.15706806, 0.31937173, 0.12041885],\n",
              "        [0.38607595, 0.18987342, 0.31012658, 0.11392405],\n",
              "        [0.40397351, 0.1986755 , 0.30463576, 0.09271523],\n",
              "        [0.37209302, 0.18604651, 0.30813953, 0.13372093],\n",
              "        [0.51785714, 0.35714286, 0.10714286, 0.01785714],\n",
              "        [0.38961039, 0.17532468, 0.33116883, 0.1038961 ],\n",
              "        [0.50505051, 0.33333333, 0.14141414, 0.02020202]]),\n",
              " array([[0.40127389, 0.17834395, 0.32484076, 0.0955414 ],\n",
              "        [0.3908046 , 0.17241379, 0.31609195, 0.12068966],\n",
              "        [0.50515464, 0.31958763, 0.15463918, 0.02061856],\n",
              "        [0.42857143, 0.18831169, 0.2987013 , 0.08441558],\n",
              "        [0.46728972, 0.3271028 , 0.14953271, 0.05607477],\n",
              "        [0.475     , 0.36666667, 0.125     , 0.03333333],\n",
              "        [0.38953488, 0.1744186 , 0.30232558, 0.13372093],\n",
              "        [0.37745098, 0.18627451, 0.32843137, 0.10784314],\n",
              "        [0.5       , 0.33653846, 0.14423077, 0.01923077],\n",
              "        [0.43055556, 0.15277778, 0.3125    , 0.10416667],\n",
              "        [0.49514563, 0.33980583, 0.13592233, 0.02912621],\n",
              "        [0.47368421, 0.34210526, 0.14912281, 0.03508772],\n",
              "        [0.36813187, 0.18131868, 0.31318681, 0.13736264],\n",
              "        [0.38709677, 0.21935484, 0.29032258, 0.10322581],\n",
              "        [0.43650794, 0.19047619, 0.29365079, 0.07936508],\n",
              "        [0.36029412, 0.18382353, 0.33088235, 0.125     ],\n",
              "        [0.39655172, 0.17816092, 0.29310345, 0.13218391],\n",
              "        [0.4057971 , 0.19565217, 0.30434783, 0.0942029 ],\n",
              "        [0.4       , 0.21428571, 0.29285714, 0.09285714],\n",
              "        [0.39226519, 0.16574586, 0.32596685, 0.1160221 ],\n",
              "        [0.4953271 , 0.34579439, 0.14018692, 0.01869159],\n",
              "        [0.4295302 , 0.19463087, 0.2885906 , 0.08724832],\n",
              "        [0.51041667, 0.32291667, 0.15625   , 0.01041667],\n",
              "        [0.37951807, 0.1746988 , 0.3373494 , 0.10843373]]),\n",
              " array([0, 1, 2, 2, 2, 2, 1, 2, 0, 2, 2, 1, 0, 0, 2, 2, 2, 0, 0, 0, 1, 2,\n",
              "        0, 1, 2, 2, 0, 1, 2, 2, 1, 0, 1, 0, 0, 0, 2, 0, 2, 2, 0, 2, 1, 0,\n",
              "        2, 2, 1, 2, 2, 0, 1, 1, 2, 0, 1, 1, 0, 2, 1, 2, 0, 2, 2, 0, 0, 1,\n",
              "        1, 1, 2, 0, 1, 0, 1, 1, 1, 2, 0, 1, 0, 1, 2, 1, 1, 0, 0, 1, 2, 0,\n",
              "        1, 2, 2, 1, 2, 0, 1, 0]),\n",
              " array([2, 2, 0, 1, 0, 0, 2, 2, 0, 1, 0, 0, 2, 1, 1, 2, 2, 1, 1, 2, 0, 1,\n",
              "        0, 2]))"
            ]
          },
          "metadata": {
            "tags": []
          },
          "execution_count": 61
        }
      ]
    },
    {
      "cell_type": "code",
      "metadata": {
        "id": "mXzkplVB_5yP",
        "colab_type": "code",
        "colab": {}
      },
      "source": [
        "X_train, X_test, Y_train, Y_test = train_test_split(X, Y, test_size=0.3, random_state=0, stratify=Y)"
      ],
      "execution_count": 0,
      "outputs": []
    },
    {
      "cell_type": "code",
      "metadata": {
        "id": "zzI8630E_8xs",
        "colab_type": "code",
        "colab": {}
      },
      "source": [
        "Train_x, TrainDev_x, Train_y, TrainDev_y = train_test_split(X_train, Y_train, test_size=0.2, random_state=0, stratify=Y_train)\n",
        "Dev_x, Test_x, Dev_y, Test_y = train_test_split(X_test, Y_test, test_size=0.5, random_state=0, stratify=Y_test)"
      ],
      "execution_count": 0,
      "outputs": []
    }
  ]
}